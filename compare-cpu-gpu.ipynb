{
  "nbformat": 4,
  "nbformat_minor": 0,
  "metadata": {
    "colab": {
      "name": "d2l.ipynb",
      "version": "0.3.2",
      "provenance": [],
      "collapsed_sections": []
    },
    "kernelspec": {
      "name": "python3",
      "display_name": "Python 3"
    },
    "accelerator": "GPU"
  },
  "cells": [
    {
      "cell_type": "markdown",
      "metadata": {
        "id": "_JFXpNj6Gf3_",
        "colab_type": "text"
      },
      "source": [
        "## 0. Prepare"
      ]
    },
    {
      "cell_type": "code",
      "metadata": {
        "id": "qAz_GRHP7F0c",
        "colab_type": "code",
        "colab": {}
      },
      "source": [
        "!nvidia-smi"
      ],
      "execution_count": 0,
      "outputs": []
    },
    {
      "cell_type": "code",
      "metadata": {
        "id": "TpjPGYaG623D",
        "colab_type": "code",
        "colab": {}
      },
      "source": [
        "!pip uninstall numpy\n",
        "!pip install numpy==1.14.6\n",
        "!pip install mxnet-cu100\n",
        "# !pip install d2l"
      ],
      "execution_count": 0,
      "outputs": []
    },
    {
      "cell_type": "code",
      "metadata": {
        "id": "AM22XhAwF1uU",
        "colab_type": "code",
        "colab": {}
      },
      "source": [
        "import mxnet as mx\n",
        "import matplotlib.pyplot as plt\n",
        "import numpy as np\n",
        "\n",
        "from time import time"
      ],
      "execution_count": 0,
      "outputs": []
    },
    {
      "cell_type": "code",
      "metadata": {
        "id": "nbr2txh7FVpw",
        "colab_type": "code",
        "colab": {
          "base_uri": "https://localhost:8080/",
          "height": 85
        },
        "outputId": "1f9c4405-ef46-4406-fcaf-989e5c38630d"
      },
      "source": [
        "\n",
        "# Testing that GPU works.\n",
        "a = mx.nd.ones((2, 3), mx.gpu())\n",
        "b = a * 2 + 1\n",
        "print(b)"
      ],
      "execution_count": 2,
      "outputs": [
        {
          "output_type": "stream",
          "text": [
            "\n",
            "[[3. 3. 3.]\n",
            " [3. 3. 3.]]\n",
            "<NDArray 2x3 @gpu(0)>\n"
          ],
          "name": "stdout"
        }
      ]
    },
    {
      "cell_type": "markdown",
      "metadata": {
        "id": "3VSf0AIeGUhd",
        "colab_type": "text"
      },
      "source": [
        "## 1. Computing C=AB using CPU"
      ]
    },
    {
      "cell_type": "code",
      "metadata": {
        "id": "pf5hyeVAFxiG",
        "colab_type": "code",
        "colab": {
          "base_uri": "https://localhost:8080/",
          "height": 34
        },
        "outputId": "45982c59-5138-463c-feb7-784347cac8a3"
      },
      "source": [
        "# construct two matrices A and B\n",
        "tic = time()\n",
        "\n",
        "A = mx.nd.random.normal(shape=(4096,4096))\n",
        "A.wait_to_read()\n",
        "B = mx.nd.random.normal(shape=(4096,4096))\n",
        "B.wait_to_read()\n",
        "\n",
        "cpu_t0 = time()-tic\n",
        "print(\"Construct two 4096*4096 matrices using CPU takes {0}s.\".format(format(cpu_t0, '0.2f')))"
      ],
      "execution_count": 29,
      "outputs": [
        {
          "output_type": "stream",
          "text": [
            "Construct two 4096*4096 matrices using CPU takes 1.47s.\n"
          ],
          "name": "stdout"
        }
      ]
    },
    {
      "cell_type": "code",
      "metadata": {
        "id": "vnxYd05pGCLZ",
        "colab_type": "code",
        "colab": {
          "base_uri": "https://localhost:8080/",
          "height": 34
        },
        "outputId": "9ba61828-6384-40bd-dc04-74c759722242"
      },
      "source": [
        "# case1. compute C=AB using CPU\n",
        "tic = time()\n",
        "\n",
        "res = mx.nd.dot(A, B)\n",
        "res.wait_to_read()\n",
        "\n",
        "cpu_t1 = time()-tic\n",
        "print(\"Compute C=AB using CPU takes {0}s.\".format(format(cpu_t1, '0.2f')))"
      ],
      "execution_count": 30,
      "outputs": [
        {
          "output_type": "stream",
          "text": [
            "Compute C=AB using CPU takes 2.19s.\n"
          ],
          "name": "stdout"
        }
      ]
    },
    {
      "cell_type": "markdown",
      "metadata": {
        "id": "MXc5fsizGsZe",
        "colab_type": "text"
      },
      "source": [
        "## 2. Computing C=AB using GPU"
      ]
    },
    {
      "cell_type": "code",
      "metadata": {
        "id": "QAmQSPycGL6O",
        "colab_type": "code",
        "colab": {
          "base_uri": "https://localhost:8080/",
          "height": 34
        },
        "outputId": "599c17ef-a420-498f-e78b-380cc7104bf8"
      },
      "source": [
        "# construct two matrices A and B\n",
        "tic = time()\n",
        "\n",
        "A = mx.nd.random.normal(shape=(4096,4096), ctx=mx.gpu())\n",
        "A.wait_to_read()\n",
        "B = mx.nd.random.normal(shape=(4096,4096), ctx=mx.gpu())\n",
        "B.wait_to_read()\n",
        "\n",
        "gpu_t0 = time()-tic\n",
        "print(\"Construct two 4096*4096 matrices using CPU takes {0}s.\".format(format(gpu_t0, '0.2f')))"
      ],
      "execution_count": 32,
      "outputs": [
        {
          "output_type": "stream",
          "text": [
            "Construct two 4096*4096 matrices using CPU takes 0.02s.\n"
          ],
          "name": "stdout"
        }
      ]
    },
    {
      "cell_type": "code",
      "metadata": {
        "id": "n6TrqzGLHW4f",
        "colab_type": "code",
        "colab": {
          "base_uri": "https://localhost:8080/",
          "height": 34
        },
        "outputId": "68d5fe9d-aae9-40d2-f2e0-db7de337e685"
      },
      "source": [
        "# case2. compute C=AB using GPU\n",
        "tic = time()\n",
        "\n",
        "res = mx.nd.dot(A, B)\n",
        "res.wait_to_read()\n",
        "\n",
        "gpu_t1 = time()-tic\n",
        "print(\"Construct two 4096*4096 matrices using CPU takes {0}s.\".format(format(gpu_t1, '0.2f')))"
      ],
      "execution_count": 34,
      "outputs": [
        {
          "output_type": "stream",
          "text": [
            "Construct two 4096*4096 matrices using CPU takes 0.05s.\n"
          ],
          "name": "stdout"
        }
      ]
    },
    {
      "cell_type": "markdown",
      "metadata": {
        "id": "8aZBKxY-I3qi",
        "colab_type": "text"
      },
      "source": [
        "## 3.Time Comparision"
      ]
    },
    {
      "cell_type": "code",
      "metadata": {
        "id": "DelDEkvzNm3n",
        "colab_type": "code",
        "colab": {
          "base_uri": "https://localhost:8080/",
          "height": 281
        },
        "outputId": "c3a103ee-22f2-4804-e220-4615c22866a5"
      },
      "source": [
        "x = range(2)\n",
        "y = [cpu_t0, gpu_t0]\n",
        "\n",
        "fig, ax = plt.subplots()\n",
        "ax.set_title('Time for constructing A&B')\n",
        "ax.annotate\n",
        "plt.bar(x, y, width=0.3)\n",
        "plt.xticks(x, ('CPU', 'GPU'))\n",
        "plt.ylabel('time/s')\n",
        "\n",
        "for a,b in zip(x,y):\n",
        "  plt.text(a, b+0.01, '%.02f' % b, ha='center', va= 'bottom',fontsize=10)\n",
        "\n",
        "plt.ylim(0,max(y)+0.12)\n",
        "plt.show()"
      ],
      "execution_count": 85,
      "outputs": [
        {
          "output_type": "display_data",
          "data": {
            "image/png": "[encoded data removed]",
            "text/plain": [
              "<Figure size 432x288 with 1 Axes>"
            ]
          },
          "metadata": {
            "tags": []
          }
        }
      ]
    },
    {
      "cell_type": "code",
      "metadata": {
        "id": "D2amSNNzIIPh",
        "colab_type": "code",
        "colab": {
          "base_uri": "https://localhost:8080/",
          "height": 281
        },
        "outputId": "bb5b3331-097b-4dc2-8e23-3b7f593f9c63"
      },
      "source": [
        "x = range(2)\n",
        "y = [cpu_t1, gpu_t1]\n",
        "\n",
        "fig, ax = plt.subplots()\n",
        "ax.set_title('Time for computing C=AB')\n",
        "plt.bar(x, y, width=0.3)\n",
        "plt.xticks(x, ('CPU', 'GPU'))\n",
        "plt.ylabel('time/s')\n",
        "for a,b in zip(x,y):\n",
        "  plt.text(a, b+0.01, '%.02f' % b, ha='center', va= 'bottom',fontsize=10)\n",
        "plt.ylim(0,max(y)+0.2)\n",
        "plt.show()\n"
      ],
      "execution_count": 79,
      "outputs": [
        {
          "output_type": "display_data",
          "data": {
            "image/png": "[encoded data removed]",
            "text/plain": [
              "<Figure size 432x288 with 1 Axes>"
            ]
          },
          "metadata": {
            "tags": []
          }
        }
      ]
    }
  ]
}